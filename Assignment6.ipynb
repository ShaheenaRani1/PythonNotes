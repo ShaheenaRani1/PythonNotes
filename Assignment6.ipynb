{
  "nbformat": 4,
  "nbformat_minor": 0,
  "metadata": {
    "kernelspec": {
      "display_name": "Python 3",
      "language": "python",
      "name": "python3"
    },
    "language_info": {
      "codemirror_mode": {
        "name": "ipython",
        "version": 3
      },
      "file_extension": ".py",
      "mimetype": "text/x-python",
      "name": "python",
      "nbconvert_exporter": "python",
      "pygments_lexer": "ipython3",
      "version": "3.7.4"
    },
    "colab": {
      "name": "OOP.ipynb",
      "provenance": [],
      "collapsed_sections": []
    }
  },
  "cells": [
    {
      "cell_type": "markdown",
      "metadata": {
        "id": "cwgeFzfH_beR",
        "colab_type": "text"
      },
      "source": [
        "Assignment No 6 \n",
        "Car's Class & Object"
      ]
    },
    {
      "cell_type": "code",
      "metadata": {
        "id": "nFssU_GwE16c",
        "colab_type": "code",
        "colab": {
          "base_uri": "https://localhost:8080/",
          "height": 196
        },
        "outputId": "ae520699-811b-45b1-8dd4-d1cdc673d56a"
      },
      "source": [
        "# Class and Object\n",
        "class Car():\n",
        "\n",
        "    def __init__(self, name,model,color,noOfGears,speed):\n",
        "        self.name = name\n",
        "        self.model = model\n",
        "        self.color = color\n",
        "        self.carspeed = speed\n",
        "        self.cargear = noOfGears\n",
        "\n",
        "\n",
        "    def CarDetails(self):\n",
        "        print(f\"\\nCar's Name : {self.name}.\"\n",
        "              f\"\\nCar's Model :{self.model}\"\n",
        "              f\"\\nCar's Color : {self.color}. \"\n",
        "              f\"\\nCar's Speed : {self.carspeed}. \"\n",
        "              f\"\\nCar's Gear {self.cargear}.\")\n",
        "\n",
        "    def shiftGear(self, shiftGear):\n",
        "        self.cargear = shiftGear\n",
        "\n",
        "    def accelarateCarSpeed(self, newspeed):\n",
        "        self.carspeed = 0\n",
        "        self.carspeed =  self.carspeed+newspeed\n",
        "\n",
        "    def wheelRotate(self,rotate):\n",
        "        self.wheelTurn = rotate\n",
        "\n",
        "    def applyBreak(self,brakingFactor):\n",
        "\n",
        "        self.carspeed =self.carspeed - brakingFactor\n",
        "\n",
        "    def carCurrentState(self):\n",
        "        print(f\"Car's Gear : {self.cargear}\"\n",
        "              f\" Car's Speed : {self.carspeed}\")\n",
        "\n",
        "\n",
        "car_Corolla = Car('Corolla',2019,'Black',5,200)\n",
        "car_Corolla.CarDetails()\n",
        "#car_Corolla.carCurrentState()\n",
        "car_Corolla.wheelRotate('Right')\n",
        "car_Corolla.accelarateCarSpeed(10)\n",
        "car_Corolla.shiftGear(1)\n",
        "car_Corolla.carCurrentState()\n",
        "car_Corolla.shiftGear(2)\n",
        "\n",
        "car_Corolla.accelarateCarSpeed(20)\n",
        "car_Corolla.carCurrentState()\n",
        "\n",
        "car_Corolla.accelarateCarSpeed(80)\n",
        "car_Corolla.shiftGear(2)\n",
        "car_Corolla.carCurrentState()\n",
        "car_Corolla.applyBreak(40)\n",
        "car_Corolla.shiftGear(3)\n",
        "car_Corolla.carCurrentState()\n"
      ],
      "execution_count": 43,
      "outputs": [
        {
          "output_type": "stream",
          "text": [
            "\n",
            "Car's Name : Corolla.\n",
            "Car's Model :2019\n",
            "Car's Color : Black. \n",
            "Car's Speed : 200. \n",
            "Car's Gear 5.\n",
            "Car's Gear : 1 Car's Speed : 10\n",
            "Car's Gear : 2 Car's Speed : 20\n",
            "Car's Gear : 2 Car's Speed : 80\n",
            "Car's Gear : 3 Car's Speed : 40\n"
          ],
          "name": "stdout"
        }
      ]
    }
  ]
}